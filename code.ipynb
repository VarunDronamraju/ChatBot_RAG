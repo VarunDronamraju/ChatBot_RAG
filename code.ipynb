{
 "cells": [
  {
   "cell_type": "code",
   "execution_count": 1,
   "metadata": {},
   "outputs": [
    {
     "name": "stdout",
     "output_type": "stream",
     "text": [
      "🔧 Creating project structure...\n",
      "📁 Directory structure created.\n",
      "🐍 Setting up virtual environment...\n",
      "✅ Virtual environment created at: C:\\Users\\varun\\Downloads\\RAGBot\\venv\n",
      "✅ Done. Now activate your environment:\n",
      "\n",
      "Windows CMD:\n",
      "  C:\\Users\\varun\\Downloads\\RAGBot\\venv\\Scripts\\activate.bat\n",
      "\n",
      "PowerShell:\n",
      "  C:\\Users\\varun\\Downloads\\RAGBot\\venv\\Scripts\\Activate.ps1\n",
      "\n",
      "Then install requirements:\n",
      "  pip install -r requirements.txt\n"
     ]
    }
   ],
   "source": [
    "import os\n",
    "import subprocess\n",
    "import sys\n",
    "\n",
    "# Base directory\n",
    "base_dir = r\"C:\\Users\\varun\\Downloads\\RAGBot\"\n",
    "\n",
    "# Folder structure\n",
    "folders = [\n",
    "    \"RAGBot/app/rag_engine\",\n",
    "    \"RAGBot/app/websearch\",\n",
    "    \"RAGBot/app/llm\",\n",
    "    \"RAGBot/app/ui\",\n",
    "    \"RAGBot/app/utils\",\n",
    "    \"RAGBot/data\",\n",
    "]\n",
    "\n",
    "# Files to create with optional content\n",
    "files = {\n",
    "    \"RAGBot/README.md\": \"# RAGBot\\n\\nPrivate RAG Chatbot with Web Search\\n\",\n",
    "    \"RAGBot/requirements.txt\": \"\",\n",
    "    \"RAGBot/.env\": \"# Add your API keys here\\nTAVILY_API_KEY=\\nSERPAPI_KEY=\\n\",\n",
    "    \"RAGBot/main.py\": 'print(\"Run RAGBot from here.\")\\n',\n",
    "    \"RAGBot/data/sample.txt\": \"This is a sample document for RAG testing.\",\n",
    "}\n",
    "\n",
    "def create_structure():\n",
    "    for folder in folders:\n",
    "        os.makedirs(os.path.join(base_dir, folder.split(\"RAGBot/\")[-1]), exist_ok=True)\n",
    "    for filepath, content in files.items():\n",
    "        full_path = os.path.join(base_dir, filepath.split(\"RAGBot/\")[-1])\n",
    "        with open(full_path, \"w\", encoding=\"utf-8\") as f:\n",
    "            f.write(content)\n",
    "\n",
    "def create_venv():\n",
    "    venv_path = os.path.join(base_dir, \"venv\")\n",
    "    subprocess.check_call([sys.executable, \"-m\", \"venv\", venv_path])\n",
    "    print(f\"✅ Virtual environment created at: {venv_path}\")\n",
    "\n",
    "def main():\n",
    "    print(\"🔧 Creating project structure...\")\n",
    "    create_structure()\n",
    "    print(\"📁 Directory structure created.\")\n",
    "    \n",
    "    print(\"🐍 Setting up virtual environment...\")\n",
    "    create_venv()\n",
    "    \n",
    "    print(\"✅ Done. Now activate your environment:\")\n",
    "    print(f\"\\nWindows CMD:\\n  {base_dir}\\\\venv\\\\Scripts\\\\activate.bat\")\n",
    "    print(f\"\\nPowerShell:\\n  {base_dir}\\\\venv\\\\Scripts\\\\Activate.ps1\")\n",
    "    print(f\"\\nThen install requirements:\\n  pip install -r requirements.txt\")\n",
    "\n",
    "if __name__ == \"__main__\":\n",
    "    main()\n"
   ]
  },
  {
   "cell_type": "code",
   "execution_count": null,
   "metadata": {},
   "outputs": [],
   "source": []
  }
 ],
 "metadata": {
  "kernelspec": {
   "display_name": "Python 3",
   "language": "python",
   "name": "python3"
  },
  "language_info": {
   "codemirror_mode": {
    "name": "ipython",
    "version": 3
   },
   "file_extension": ".py",
   "mimetype": "text/x-python",
   "name": "python",
   "nbconvert_exporter": "python",
   "pygments_lexer": "ipython3",
   "version": "3.10.11"
  }
 },
 "nbformat": 4,
 "nbformat_minor": 2
}
